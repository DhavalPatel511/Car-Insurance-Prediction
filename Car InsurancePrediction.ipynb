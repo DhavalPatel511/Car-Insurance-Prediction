{
 "cells": [
  {
   "cell_type": "code",
   "execution_count": 1,
   "metadata": {},
   "outputs": [],
   "source": [
    "%matplotlib inline  \n",
    "# To make data visualisations display in Jupyter Notebooks \n",
    "import numpy as np   # linear algebra\n",
    "import pandas as pd  # Data processing, Input & Output load\n",
    "import matplotlib.pyplot as plt # Visuvalization & plotting\n",
    "import datetime  \n",
    "from sklearn.linear_model import LogisticRegression #  Logistic Regression (aka logit) classifier in linear model\n",
    "import joblib  #Joblib is a set of tools to provide lightweight pipelining in Python (Avoid computing twice the same thing)\n",
    "\n",
    "from sklearn.model_selection import train_test_split, cross_val_score, GridSearchCV\n",
    "                                    # GridSearchCV - Implements a “fit” and a “score” method\n",
    "                                    # train_test_split - Split arrays or matrices into random train and test subsets\n",
    "                                    # cross_val_score - Evaluate a score by cross-validation\n",
    "from sklearn.metrics import f1_score, roc_auc_score, recall_score, precision_score, make_scorer, accuracy_score, roc_curve, confusion_matrix, classification_report\n",
    "                                    # Differnt metrics to evaluate the model \n",
    "#import pandas_profiling as pp   # simple and fast exploratory data analysis of a Pandas Datafram\n",
    "\n",
    "import warnings   # To avoid warning messages in the code run\n",
    "warnings.filterwarnings(\"ignore\")"
   ]
  },
  {
   "cell_type": "markdown",
   "metadata": {},
   "source": [
    "## Load Data"
   ]
  },
  {
   "cell_type": "code",
   "execution_count": 2,
   "metadata": {},
   "outputs": [
    {
     "name": "stdout",
     "output_type": "stream",
     "text": [
      "Train Data Shape -  (4000, 19)\n"
     ]
    },
    {
     "data": {
      "text/html": [
       "<div>\n",
       "<style scoped>\n",
       "    .dataframe tbody tr th:only-of-type {\n",
       "        vertical-align: middle;\n",
       "    }\n",
       "\n",
       "    .dataframe tbody tr th {\n",
       "        vertical-align: top;\n",
       "    }\n",
       "\n",
       "    .dataframe thead th {\n",
       "        text-align: right;\n",
       "    }\n",
       "</style>\n",
       "<table border=\"1\" class=\"dataframe\">\n",
       "  <thead>\n",
       "    <tr style=\"text-align: right;\">\n",
       "      <th></th>\n",
       "      <th>Id</th>\n",
       "      <th>Age</th>\n",
       "      <th>Job</th>\n",
       "      <th>Marital</th>\n",
       "      <th>Education</th>\n",
       "      <th>Default</th>\n",
       "      <th>Balance</th>\n",
       "      <th>HHInsurance</th>\n",
       "      <th>CarLoan</th>\n",
       "      <th>Communication</th>\n",
       "      <th>LastContactDay</th>\n",
       "      <th>LastContactMonth</th>\n",
       "      <th>NoOfContacts</th>\n",
       "      <th>DaysPassed</th>\n",
       "      <th>PrevAttempts</th>\n",
       "      <th>Outcome</th>\n",
       "      <th>CallStart</th>\n",
       "      <th>CallEnd</th>\n",
       "      <th>CarInsurance</th>\n",
       "    </tr>\n",
       "  </thead>\n",
       "  <tbody>\n",
       "    <tr>\n",
       "      <th>0</th>\n",
       "      <td>1</td>\n",
       "      <td>32</td>\n",
       "      <td>management</td>\n",
       "      <td>single</td>\n",
       "      <td>tertiary</td>\n",
       "      <td>0</td>\n",
       "      <td>1218</td>\n",
       "      <td>1</td>\n",
       "      <td>0</td>\n",
       "      <td>telephone</td>\n",
       "      <td>28</td>\n",
       "      <td>jan</td>\n",
       "      <td>2</td>\n",
       "      <td>-1</td>\n",
       "      <td>0</td>\n",
       "      <td>NaN</td>\n",
       "      <td>13:45:20</td>\n",
       "      <td>13:46:30</td>\n",
       "      <td>0</td>\n",
       "    </tr>\n",
       "    <tr>\n",
       "      <th>1</th>\n",
       "      <td>2</td>\n",
       "      <td>32</td>\n",
       "      <td>blue-collar</td>\n",
       "      <td>married</td>\n",
       "      <td>primary</td>\n",
       "      <td>0</td>\n",
       "      <td>1156</td>\n",
       "      <td>1</td>\n",
       "      <td>0</td>\n",
       "      <td>NaN</td>\n",
       "      <td>26</td>\n",
       "      <td>may</td>\n",
       "      <td>5</td>\n",
       "      <td>-1</td>\n",
       "      <td>0</td>\n",
       "      <td>NaN</td>\n",
       "      <td>14:49:03</td>\n",
       "      <td>14:52:08</td>\n",
       "      <td>0</td>\n",
       "    </tr>\n",
       "    <tr>\n",
       "      <th>2</th>\n",
       "      <td>3</td>\n",
       "      <td>29</td>\n",
       "      <td>management</td>\n",
       "      <td>single</td>\n",
       "      <td>tertiary</td>\n",
       "      <td>0</td>\n",
       "      <td>637</td>\n",
       "      <td>1</td>\n",
       "      <td>0</td>\n",
       "      <td>cellular</td>\n",
       "      <td>3</td>\n",
       "      <td>jun</td>\n",
       "      <td>1</td>\n",
       "      <td>119</td>\n",
       "      <td>1</td>\n",
       "      <td>failure</td>\n",
       "      <td>16:30:24</td>\n",
       "      <td>16:36:04</td>\n",
       "      <td>1</td>\n",
       "    </tr>\n",
       "    <tr>\n",
       "      <th>3</th>\n",
       "      <td>4</td>\n",
       "      <td>25</td>\n",
       "      <td>student</td>\n",
       "      <td>single</td>\n",
       "      <td>primary</td>\n",
       "      <td>0</td>\n",
       "      <td>373</td>\n",
       "      <td>1</td>\n",
       "      <td>0</td>\n",
       "      <td>cellular</td>\n",
       "      <td>11</td>\n",
       "      <td>may</td>\n",
       "      <td>2</td>\n",
       "      <td>-1</td>\n",
       "      <td>0</td>\n",
       "      <td>NaN</td>\n",
       "      <td>12:06:43</td>\n",
       "      <td>12:20:22</td>\n",
       "      <td>1</td>\n",
       "    </tr>\n",
       "    <tr>\n",
       "      <th>4</th>\n",
       "      <td>5</td>\n",
       "      <td>30</td>\n",
       "      <td>management</td>\n",
       "      <td>married</td>\n",
       "      <td>tertiary</td>\n",
       "      <td>0</td>\n",
       "      <td>2694</td>\n",
       "      <td>0</td>\n",
       "      <td>0</td>\n",
       "      <td>cellular</td>\n",
       "      <td>3</td>\n",
       "      <td>jun</td>\n",
       "      <td>1</td>\n",
       "      <td>-1</td>\n",
       "      <td>0</td>\n",
       "      <td>NaN</td>\n",
       "      <td>14:35:44</td>\n",
       "      <td>14:38:56</td>\n",
       "      <td>0</td>\n",
       "    </tr>\n",
       "  </tbody>\n",
       "</table>\n",
       "</div>"
      ],
      "text/plain": [
       "   Id  Age          Job  Marital Education  Default  Balance  HHInsurance  \\\n",
       "0   1   32   management   single  tertiary        0     1218            1   \n",
       "1   2   32  blue-collar  married   primary        0     1156            1   \n",
       "2   3   29   management   single  tertiary        0      637            1   \n",
       "3   4   25      student   single   primary        0      373            1   \n",
       "4   5   30   management  married  tertiary        0     2694            0   \n",
       "\n",
       "   CarLoan Communication  LastContactDay LastContactMonth  NoOfContacts  \\\n",
       "0        0     telephone              28              jan             2   \n",
       "1        0           NaN              26              may             5   \n",
       "2        0      cellular               3              jun             1   \n",
       "3        0      cellular              11              may             2   \n",
       "4        0      cellular               3              jun             1   \n",
       "\n",
       "   DaysPassed  PrevAttempts  Outcome CallStart   CallEnd  CarInsurance  \n",
       "0          -1             0      NaN  13:45:20  13:46:30             0  \n",
       "1          -1             0      NaN  14:49:03  14:52:08             0  \n",
       "2         119             1  failure  16:30:24  16:36:04             1  \n",
       "3          -1             0      NaN  12:06:43  12:20:22             1  \n",
       "4          -1             0      NaN  14:35:44  14:38:56             0  "
      ]
     },
     "execution_count": 2,
     "metadata": {},
     "output_type": "execute_result"
    }
   ],
   "source": [
    "# Read-in the dataset\n",
    "Insurance_Data = pd.read_csv(r'carInsurance_train.csv')\n",
    "print('Train Data Shape - ', Insurance_Data.shape)\n",
    "Insurance_Data.head()"
   ]
  },
  {
   "cell_type": "markdown",
   "metadata": {},
   "source": [
    "### Lets check the data type"
   ]
  },
  {
   "cell_type": "code",
   "execution_count": 3,
   "metadata": {},
   "outputs": [
    {
     "name": "stdout",
     "output_type": "stream",
     "text": [
      "<class 'pandas.core.frame.DataFrame'>\n",
      "RangeIndex: 4000 entries, 0 to 3999\n",
      "Data columns (total 19 columns):\n",
      " #   Column            Non-Null Count  Dtype \n",
      "---  ------            --------------  ----- \n",
      " 0   Id                4000 non-null   int64 \n",
      " 1   Age               4000 non-null   int64 \n",
      " 2   Job               3981 non-null   object\n",
      " 3   Marital           4000 non-null   object\n",
      " 4   Education         3831 non-null   object\n",
      " 5   Default           4000 non-null   int64 \n",
      " 6   Balance           4000 non-null   int64 \n",
      " 7   HHInsurance       4000 non-null   int64 \n",
      " 8   CarLoan           4000 non-null   int64 \n",
      " 9   Communication     3098 non-null   object\n",
      " 10  LastContactDay    4000 non-null   int64 \n",
      " 11  LastContactMonth  4000 non-null   object\n",
      " 12  NoOfContacts      4000 non-null   int64 \n",
      " 13  DaysPassed        4000 non-null   int64 \n",
      " 14  PrevAttempts      4000 non-null   int64 \n",
      " 15  Outcome           958 non-null    object\n",
      " 16  CallStart         4000 non-null   object\n",
      " 17  CallEnd           4000 non-null   object\n",
      " 18  CarInsurance      4000 non-null   int64 \n",
      "dtypes: int64(11), object(8)\n",
      "memory usage: 593.9+ KB\n"
     ]
    }
   ],
   "source": [
    "# What type of values are stored in the columns?\n",
    "Insurance_Data.info()"
   ]
  },
  {
   "cell_type": "markdown",
   "metadata": {},
   "source": [
    "## Lets Generate a Data Profiling Report"
   ]
  },
  {
   "cell_type": "code",
   "execution_count": 4,
   "metadata": {
    "scrolled": true
   },
   "outputs": [],
   "source": [
    "#pp.ProfileReport(Insurance_Data)"
   ]
  },
  {
   "cell_type": "markdown",
   "metadata": {},
   "source": [
    "# EDA"
   ]
  },
  {
   "cell_type": "markdown",
   "metadata": {},
   "source": [
    "### Let's check the summary fo data "
   ]
  },
  {
   "cell_type": "code",
   "execution_count": 5,
   "metadata": {},
   "outputs": [
    {
     "data": {
      "text/html": [
       "<div>\n",
       "<style scoped>\n",
       "    .dataframe tbody tr th:only-of-type {\n",
       "        vertical-align: middle;\n",
       "    }\n",
       "\n",
       "    .dataframe tbody tr th {\n",
       "        vertical-align: top;\n",
       "    }\n",
       "\n",
       "    .dataframe thead th {\n",
       "        text-align: right;\n",
       "    }\n",
       "</style>\n",
       "<table border=\"1\" class=\"dataframe\">\n",
       "  <thead>\n",
       "    <tr style=\"text-align: right;\">\n",
       "      <th></th>\n",
       "      <th>Id</th>\n",
       "      <th>Age</th>\n",
       "      <th>Default</th>\n",
       "      <th>Balance</th>\n",
       "      <th>HHInsurance</th>\n",
       "      <th>CarLoan</th>\n",
       "      <th>LastContactDay</th>\n",
       "      <th>NoOfContacts</th>\n",
       "      <th>DaysPassed</th>\n",
       "      <th>PrevAttempts</th>\n",
       "      <th>CarInsurance</th>\n",
       "    </tr>\n",
       "  </thead>\n",
       "  <tbody>\n",
       "    <tr>\n",
       "      <th>count</th>\n",
       "      <td>4000.000000</td>\n",
       "      <td>4000.000000</td>\n",
       "      <td>4000.000000</td>\n",
       "      <td>4000.000000</td>\n",
       "      <td>4000.00000</td>\n",
       "      <td>4000.000000</td>\n",
       "      <td>4000.000000</td>\n",
       "      <td>4000.000000</td>\n",
       "      <td>4000.000000</td>\n",
       "      <td>4000.000000</td>\n",
       "      <td>4000.000000</td>\n",
       "    </tr>\n",
       "    <tr>\n",
       "      <th>mean</th>\n",
       "      <td>2000.500000</td>\n",
       "      <td>41.214750</td>\n",
       "      <td>0.014500</td>\n",
       "      <td>1532.937250</td>\n",
       "      <td>0.49275</td>\n",
       "      <td>0.133000</td>\n",
       "      <td>15.721250</td>\n",
       "      <td>2.607250</td>\n",
       "      <td>48.706500</td>\n",
       "      <td>0.717500</td>\n",
       "      <td>0.401000</td>\n",
       "    </tr>\n",
       "    <tr>\n",
       "      <th>std</th>\n",
       "      <td>1154.844867</td>\n",
       "      <td>11.550194</td>\n",
       "      <td>0.119555</td>\n",
       "      <td>3511.452489</td>\n",
       "      <td>0.50001</td>\n",
       "      <td>0.339617</td>\n",
       "      <td>8.425307</td>\n",
       "      <td>3.064204</td>\n",
       "      <td>106.685385</td>\n",
       "      <td>2.078647</td>\n",
       "      <td>0.490162</td>\n",
       "    </tr>\n",
       "    <tr>\n",
       "      <th>min</th>\n",
       "      <td>1.000000</td>\n",
       "      <td>18.000000</td>\n",
       "      <td>0.000000</td>\n",
       "      <td>-3058.000000</td>\n",
       "      <td>0.00000</td>\n",
       "      <td>0.000000</td>\n",
       "      <td>1.000000</td>\n",
       "      <td>1.000000</td>\n",
       "      <td>-1.000000</td>\n",
       "      <td>0.000000</td>\n",
       "      <td>0.000000</td>\n",
       "    </tr>\n",
       "    <tr>\n",
       "      <th>25%</th>\n",
       "      <td>1000.750000</td>\n",
       "      <td>32.000000</td>\n",
       "      <td>0.000000</td>\n",
       "      <td>111.000000</td>\n",
       "      <td>0.00000</td>\n",
       "      <td>0.000000</td>\n",
       "      <td>8.000000</td>\n",
       "      <td>1.000000</td>\n",
       "      <td>-1.000000</td>\n",
       "      <td>0.000000</td>\n",
       "      <td>0.000000</td>\n",
       "    </tr>\n",
       "    <tr>\n",
       "      <th>50%</th>\n",
       "      <td>2000.500000</td>\n",
       "      <td>39.000000</td>\n",
       "      <td>0.000000</td>\n",
       "      <td>551.500000</td>\n",
       "      <td>0.00000</td>\n",
       "      <td>0.000000</td>\n",
       "      <td>16.000000</td>\n",
       "      <td>2.000000</td>\n",
       "      <td>-1.000000</td>\n",
       "      <td>0.000000</td>\n",
       "      <td>0.000000</td>\n",
       "    </tr>\n",
       "    <tr>\n",
       "      <th>75%</th>\n",
       "      <td>3000.250000</td>\n",
       "      <td>49.000000</td>\n",
       "      <td>0.000000</td>\n",
       "      <td>1619.000000</td>\n",
       "      <td>1.00000</td>\n",
       "      <td>0.000000</td>\n",
       "      <td>22.000000</td>\n",
       "      <td>3.000000</td>\n",
       "      <td>-1.000000</td>\n",
       "      <td>0.000000</td>\n",
       "      <td>1.000000</td>\n",
       "    </tr>\n",
       "    <tr>\n",
       "      <th>max</th>\n",
       "      <td>4000.000000</td>\n",
       "      <td>95.000000</td>\n",
       "      <td>1.000000</td>\n",
       "      <td>98417.000000</td>\n",
       "      <td>1.00000</td>\n",
       "      <td>1.000000</td>\n",
       "      <td>31.000000</td>\n",
       "      <td>43.000000</td>\n",
       "      <td>854.000000</td>\n",
       "      <td>58.000000</td>\n",
       "      <td>1.000000</td>\n",
       "    </tr>\n",
       "  </tbody>\n",
       "</table>\n",
       "</div>"
      ],
      "text/plain": [
       "                Id          Age      Default       Balance  HHInsurance  \\\n",
       "count  4000.000000  4000.000000  4000.000000   4000.000000   4000.00000   \n",
       "mean   2000.500000    41.214750     0.014500   1532.937250      0.49275   \n",
       "std    1154.844867    11.550194     0.119555   3511.452489      0.50001   \n",
       "min       1.000000    18.000000     0.000000  -3058.000000      0.00000   \n",
       "25%    1000.750000    32.000000     0.000000    111.000000      0.00000   \n",
       "50%    2000.500000    39.000000     0.000000    551.500000      0.00000   \n",
       "75%    3000.250000    49.000000     0.000000   1619.000000      1.00000   \n",
       "max    4000.000000    95.000000     1.000000  98417.000000      1.00000   \n",
       "\n",
       "           CarLoan  LastContactDay  NoOfContacts   DaysPassed  PrevAttempts  \\\n",
       "count  4000.000000     4000.000000   4000.000000  4000.000000   4000.000000   \n",
       "mean      0.133000       15.721250      2.607250    48.706500      0.717500   \n",
       "std       0.339617        8.425307      3.064204   106.685385      2.078647   \n",
       "min       0.000000        1.000000      1.000000    -1.000000      0.000000   \n",
       "25%       0.000000        8.000000      1.000000    -1.000000      0.000000   \n",
       "50%       0.000000       16.000000      2.000000    -1.000000      0.000000   \n",
       "75%       0.000000       22.000000      3.000000    -1.000000      0.000000   \n",
       "max       1.000000       31.000000     43.000000   854.000000     58.000000   \n",
       "\n",
       "       CarInsurance  \n",
       "count   4000.000000  \n",
       "mean       0.401000  \n",
       "std        0.490162  \n",
       "min        0.000000  \n",
       "25%        0.000000  \n",
       "50%        0.000000  \n",
       "75%        1.000000  \n",
       "max        1.000000  "
      ]
     },
     "execution_count": 5,
     "metadata": {},
     "output_type": "execute_result"
    }
   ],
   "source": [
    "# Let's look at some statistical information about our dataframe.\n",
    "Insurance_Data.describe()"
   ]
  },
  {
   "cell_type": "code",
   "execution_count": 6,
   "metadata": {},
   "outputs": [
    {
     "data": {
      "text/html": [
       "<div>\n",
       "<style scoped>\n",
       "    .dataframe tbody tr th:only-of-type {\n",
       "        vertical-align: middle;\n",
       "    }\n",
       "\n",
       "    .dataframe tbody tr th {\n",
       "        vertical-align: top;\n",
       "    }\n",
       "\n",
       "    .dataframe thead th {\n",
       "        text-align: right;\n",
       "    }\n",
       "</style>\n",
       "<table border=\"1\" class=\"dataframe\">\n",
       "  <thead>\n",
       "    <tr style=\"text-align: right;\">\n",
       "      <th></th>\n",
       "      <th>Job</th>\n",
       "      <th>Marital</th>\n",
       "      <th>Education</th>\n",
       "      <th>Communication</th>\n",
       "      <th>LastContactMonth</th>\n",
       "      <th>Outcome</th>\n",
       "      <th>CallStart</th>\n",
       "      <th>CallEnd</th>\n",
       "    </tr>\n",
       "  </thead>\n",
       "  <tbody>\n",
       "    <tr>\n",
       "      <th>count</th>\n",
       "      <td>3981</td>\n",
       "      <td>4000</td>\n",
       "      <td>3831</td>\n",
       "      <td>3098</td>\n",
       "      <td>4000</td>\n",
       "      <td>958</td>\n",
       "      <td>4000</td>\n",
       "      <td>4000</td>\n",
       "    </tr>\n",
       "    <tr>\n",
       "      <th>unique</th>\n",
       "      <td>11</td>\n",
       "      <td>3</td>\n",
       "      <td>3</td>\n",
       "      <td>2</td>\n",
       "      <td>12</td>\n",
       "      <td>3</td>\n",
       "      <td>3777</td>\n",
       "      <td>3764</td>\n",
       "    </tr>\n",
       "    <tr>\n",
       "      <th>top</th>\n",
       "      <td>management</td>\n",
       "      <td>married</td>\n",
       "      <td>secondary</td>\n",
       "      <td>cellular</td>\n",
       "      <td>may</td>\n",
       "      <td>failure</td>\n",
       "      <td>17:11:04</td>\n",
       "      <td>10:22:30</td>\n",
       "    </tr>\n",
       "    <tr>\n",
       "      <th>freq</th>\n",
       "      <td>893</td>\n",
       "      <td>2304</td>\n",
       "      <td>1988</td>\n",
       "      <td>2831</td>\n",
       "      <td>1049</td>\n",
       "      <td>437</td>\n",
       "      <td>3</td>\n",
       "      <td>3</td>\n",
       "    </tr>\n",
       "  </tbody>\n",
       "</table>\n",
       "</div>"
      ],
      "text/plain": [
       "               Job  Marital  Education Communication LastContactMonth  \\\n",
       "count         3981     4000       3831          3098             4000   \n",
       "unique          11        3          3             2               12   \n",
       "top     management  married  secondary      cellular              may   \n",
       "freq           893     2304       1988          2831             1049   \n",
       "\n",
       "        Outcome CallStart   CallEnd  \n",
       "count       958      4000      4000  \n",
       "unique        3      3777      3764  \n",
       "top     failure  17:11:04  10:22:30  \n",
       "freq        437         3         3  "
      ]
     },
     "execution_count": 6,
     "metadata": {},
     "output_type": "execute_result"
    }
   ],
   "source": [
    "# This is how we can get summary for the categorical data\n",
    "Insurance_Data.describe(include=np.object) "
   ]
  },
  {
   "cell_type": "markdown",
   "metadata": {},
   "source": [
    "### Univariate Analysis\n",
    "\n",
    "**Lets analyse the data w.r.t our Target variable**"
   ]
  },
  {
   "cell_type": "code",
   "execution_count": 7,
   "metadata": {},
   "outputs": [
    {
     "data": {
      "text/html": [
       "<div>\n",
       "<style scoped>\n",
       "    .dataframe tbody tr th:only-of-type {\n",
       "        vertical-align: middle;\n",
       "    }\n",
       "\n",
       "    .dataframe tbody tr th {\n",
       "        vertical-align: top;\n",
       "    }\n",
       "\n",
       "    .dataframe thead th {\n",
       "        text-align: right;\n",
       "    }\n",
       "</style>\n",
       "<table border=\"1\" class=\"dataframe\">\n",
       "  <thead>\n",
       "    <tr style=\"text-align: right;\">\n",
       "      <th>col_0</th>\n",
       "      <th>N</th>\n",
       "    </tr>\n",
       "    <tr>\n",
       "      <th>CarInsurance</th>\n",
       "      <th></th>\n",
       "    </tr>\n",
       "  </thead>\n",
       "  <tbody>\n",
       "    <tr>\n",
       "      <th>0</th>\n",
       "      <td>0.599</td>\n",
       "    </tr>\n",
       "    <tr>\n",
       "      <th>1</th>\n",
       "      <td>0.401</td>\n",
       "    </tr>\n",
       "  </tbody>\n",
       "</table>\n",
       "</div>"
      ],
      "text/plain": [
       "col_0             N\n",
       "CarInsurance       \n",
       "0             0.599\n",
       "1             0.401"
      ]
     },
     "execution_count": 7,
     "metadata": {},
     "output_type": "execute_result"
    }
   ],
   "source": [
    "Target = 'CarInsurance'\n",
    "pd.crosstab(Insurance_Data[Target], columns='N', normalize=True) # normalize=True means calculate %"
   ]
  },
  {
   "cell_type": "markdown",
   "metadata": {},
   "source": [
    "**The data seems to be quiet good as we have approx. 40% of 1's in our data**"
   ]
  },
  {
   "cell_type": "markdown",
   "metadata": {},
   "source": [
    "### Visualising Data - Bivariate"
   ]
  },
  {
   "cell_type": "code",
   "execution_count": 8,
   "metadata": {},
   "outputs": [
    {
     "name": "stdout",
     "output_type": "stream",
     "text": [
      "<class 'pandas.core.frame.DataFrame'>\n",
      "RangeIndex: 4000 entries, 0 to 3999\n",
      "Data columns (total 19 columns):\n",
      " #   Column            Non-Null Count  Dtype \n",
      "---  ------            --------------  ----- \n",
      " 0   Id                4000 non-null   int64 \n",
      " 1   Age               4000 non-null   int64 \n",
      " 2   Job               3981 non-null   object\n",
      " 3   Marital           4000 non-null   object\n",
      " 4   Education         3831 non-null   object\n",
      " 5   Default           4000 non-null   int64 \n",
      " 6   Balance           4000 non-null   int64 \n",
      " 7   HHInsurance       4000 non-null   int64 \n",
      " 8   CarLoan           4000 non-null   int64 \n",
      " 9   Communication     3098 non-null   object\n",
      " 10  LastContactDay    4000 non-null   int64 \n",
      " 11  LastContactMonth  4000 non-null   object\n",
      " 12  NoOfContacts      4000 non-null   int64 \n",
      " 13  DaysPassed        4000 non-null   int64 \n",
      " 14  PrevAttempts      4000 non-null   int64 \n",
      " 15  Outcome           958 non-null    object\n",
      " 16  CallStart         4000 non-null   object\n",
      " 17  CallEnd           4000 non-null   object\n",
      " 18  CarInsurance      4000 non-null   int64 \n",
      "dtypes: int64(11), object(8)\n",
      "memory usage: 593.9+ KB\n"
     ]
    }
   ],
   "source": [
    "Insurance_Data.info()"
   ]
  },
  {
   "cell_type": "code",
   "execution_count": 9,
   "metadata": {},
   "outputs": [],
   "source": [
    "num_cols = Insurance_Data.select_dtypes(include=[np.number]).columns.tolist()\n",
    "non_num_cols = Insurance_Data.select_dtypes(exclude=[np.number]).columns.tolist()\n"
   ]
  },
  {
   "cell_type": "code",
   "execution_count": 10,
   "metadata": {},
   "outputs": [
    {
     "name": "stdout",
     "output_type": "stream",
     "text": [
      "Numeric Columns \n",
      " ['Id', 'Age', 'Default', 'Balance', 'HHInsurance', 'CarLoan', 'LastContactDay', 'NoOfContacts', 'DaysPassed', 'PrevAttempts', 'CarInsurance']\n",
      "Non-Numeric Columns \n",
      " ['Job', 'Marital', 'Education', 'Communication', 'LastContactMonth', 'Outcome', 'CallStart', 'CallEnd']\n"
     ]
    }
   ],
   "source": [
    "print('Numeric Columns \\n', num_cols)\n",
    "print('Non-Numeric Columns \\n', non_num_cols)"
   ]
  },
  {
   "cell_type": "code",
   "execution_count": 11,
   "metadata": {},
   "outputs": [],
   "source": [
    "# Lets drop columns which we will not use\n",
    "num_cols = Insurance_Data.drop(['Id', 'CarInsurance'],axis=1).select_dtypes(include=[np.number]).columns.tolist()\n",
    "non_num_cols = Insurance_Data.drop(['CallStart', 'CallEnd'],axis=1).select_dtypes(exclude=[np.number]).columns.tolist()\n"
   ]
  },
  {
   "cell_type": "code",
   "execution_count": 12,
   "metadata": {},
   "outputs": [
    {
     "name": "stdout",
     "output_type": "stream",
     "text": [
      "Numeric Columns \n",
      " ['Age', 'Default', 'Balance', 'HHInsurance', 'CarLoan', 'LastContactDay', 'NoOfContacts', 'DaysPassed', 'PrevAttempts']\n",
      "Non-Numeric Columns \n",
      " ['Job', 'Marital', 'Education', 'Communication', 'LastContactMonth', 'Outcome']\n"
     ]
    }
   ],
   "source": [
    "print('Numeric Columns \\n', num_cols)\n",
    "print('Non-Numeric Columns \\n', non_num_cols)"
   ]
  },
  {
   "cell_type": "code",
   "execution_count": 13,
   "metadata": {
    "scrolled": true
   },
   "outputs": [
    {
     "data": {
      "image/png": "[encoded data removed]",
      "text/plain": [
       "<Figure size 1500x1500 with 6 Axes>"
      ]
     },
     "metadata": {},
     "output_type": "display_data"
    }
   ],
   "source": [
    "# Lets drop CarLoan, HHInsurance, Default from the numeric columns as these are dummies\n",
    "num_cols_viz = ['DaysPassed', 'Age', 'NoOfContacts', 'PrevAttempts', 'LastContactDay', 'Balance']\n",
    "\n",
    "# sharex and sharey is used to give every plot should have own axis\n",
    "# to give plane with 0 to 1 lim on both side\n",
    "fig, axes = plt.subplots(3,2,sharex=False,sharey=False, figsize=(15,15)) \n",
    "Insurance_Data.loc[:,[Target]+num_cols_viz].boxplot(by=Target, ax=axes,return_type='axes');"
   ]
  },
  {
   "cell_type": "code",
   "execution_count": 14,
   "metadata": {},
   "outputs": [
    {
     "data": {
      "image/png": "[encoded data removed]",
      "text/plain": [
       "<Figure size 1500x5000 with 9 Axes>"
      ]
     },
     "metadata": {},
     "output_type": "display_data"
    }
   ],
   "source": [
    "non_num_cols_viz = non_num_cols+['CarLoan', 'HHInsurance', 'Default']\n",
    "fig, axes = plt.subplots(len(non_num_cols_viz),sharex=False,sharey=False, figsize=(15,50))\n",
    "for i in range(len(non_num_cols_viz)):\n",
    "    pd.crosstab(Insurance_Data[non_num_cols_viz[i]], Insurance_Data[Target]).plot(kind='bar', \n",
    "                                                                                  stacked=True, \n",
    "                                                                                  grid=False, sharex=False,ax=axes[i],\n",
    "   # sharex=False every plot should have different axis                                                                               ax=axes[i],\n",
    "                                                                                  rot=0)\n",
    "    # rot =0 is to get label in horizontal format \n",
    "        "
   ]
  },
  {
   "cell_type": "markdown",
   "metadata": {},
   "source": [
    "* The JobType='Retired' seem to have higher chance of buying insurance\n",
    "* The Communication='cellular' seem to best way to reach out for insurance"
   ]
  },
  {
   "cell_type": "markdown",
   "metadata": {},
   "source": [
    "## Check for Missing Values"
   ]
  },
  {
   "cell_type": "code",
   "execution_count": 15,
   "metadata": {},
   "outputs": [
    {
     "data": {
      "text/plain": [
       "Id                     0\n",
       "Age                    0\n",
       "Job                   19\n",
       "Marital                0\n",
       "Education            169\n",
       "Default                0\n",
       "Balance                0\n",
       "HHInsurance            0\n",
       "CarLoan                0\n",
       "Communication        902\n",
       "LastContactDay         0\n",
       "LastContactMonth       0\n",
       "NoOfContacts           0\n",
       "DaysPassed             0\n",
       "PrevAttempts           0\n",
       "Outcome             3042\n",
       "CallStart              0\n",
       "CallEnd                0\n",
       "CarInsurance           0\n",
       "dtype: int64"
      ]
     },
     "execution_count": 15,
     "metadata": {},
     "output_type": "execute_result"
    }
   ],
   "source": [
    "Insurance_Data.isnull().sum()"
   ]
  },
  {
   "cell_type": "markdown",
   "metadata": {},
   "source": [
    "**Looks like variables Job, Education, Communication & Outcome have missing values. Lets analyse them and treat them accordingly**"
   ]
  },
  {
   "cell_type": "markdown",
   "metadata": {},
   "source": [
    "# Missing Values - Job"
   ]
  },
  {
   "cell_type": "code",
   "execution_count": 16,
   "metadata": {},
   "outputs": [],
   "source": [
    "Insurance_Data_Org = Insurance_Data.copy()"
   ]
  },
  {
   "cell_type": "code",
   "execution_count": 17,
   "metadata": {},
   "outputs": [
    {
     "data": {
      "text/plain": [
       "management       893\n",
       "blue-collar      759\n",
       "technician       660\n",
       "admin.           459\n",
       "services         330\n",
       "retired          249\n",
       "self-employed    140\n",
       "student          131\n",
       "unemployed       130\n",
       "entrepreneur     121\n",
       "housemaid        109\n",
       "NaN               19\n",
       "Name: Job, dtype: int64"
      ]
     },
     "execution_count": 17,
     "metadata": {},
     "output_type": "execute_result"
    }
   ],
   "source": [
    "Insurance_Data['Job'].value_counts(dropna=False)"
   ]
  },
  {
   "cell_type": "markdown",
   "metadata": {},
   "source": [
    "Lets replace the missing with None. This will help us in handling missing values in future as well."
   ]
  },
  {
   "cell_type": "code",
   "execution_count": 18,
   "metadata": {},
   "outputs": [
    {
     "data": {
      "text/plain": [
       "0"
      ]
     },
     "execution_count": 18,
     "metadata": {},
     "output_type": "execute_result"
    }
   ],
   "source": [
    "Insurance_Data['Job'] = Insurance_Data['Job'].fillna('None')\n",
    "Insurance_Data['Job'].isnull().sum()"
   ]
  },
  {
   "cell_type": "markdown",
   "metadata": {},
   "source": [
    "## Education"
   ]
  },
  {
   "cell_type": "code",
   "execution_count": 19,
   "metadata": {},
   "outputs": [
    {
     "data": {
      "text/plain": [
       "management       893\n",
       "blue-collar      759\n",
       "technician       660\n",
       "admin.           459\n",
       "services         330\n",
       "retired          249\n",
       "self-employed    140\n",
       "student          131\n",
       "unemployed       130\n",
       "entrepreneur     121\n",
       "housemaid        109\n",
       "None              19\n",
       "Name: Job, dtype: int64"
      ]
     },
     "execution_count": 19,
     "metadata": {},
     "output_type": "execute_result"
    }
   ],
   "source": [
    "# Fill missing education with the most common education level by job type\n",
    "Insurance_Data['Education'].value_counts()\n",
    "\n",
    "# Create job-education level mode mapping\n",
    "edu_mode=[]\n",
    "\n",
    "# What are different Job Types\n",
    "job_types = Insurance_Data.Job.value_counts().index\n",
    "\n",
    "# Checking which job is most \n",
    "Insurance_Data['Job'].value_counts()"
   ]
  },
  {
   "cell_type": "code",
   "execution_count": 20,
   "metadata": {},
   "outputs": [
    {
     "data": {
      "text/plain": [
       "management        tertiary\n",
       "blue-collar      secondary\n",
       "technician       secondary\n",
       "admin.           secondary\n",
       "services         secondary\n",
       "retired          secondary\n",
       "self-employed     tertiary\n",
       "student          secondary\n",
       "unemployed       secondary\n",
       "entrepreneur      tertiary\n",
       "housemaid          primary\n",
       "None             secondary\n",
       "dtype: object"
      ]
     },
     "execution_count": 20,
     "metadata": {},
     "output_type": "execute_result"
    }
   ],
   "source": [
    "# Now according to the job type we will crate a mapping where the job and mode of education is there.\n",
    "# It means when there are many people in the managment job then most of them are in which education.\n",
    "# We can find that in below mapping\n",
    "\n",
    "\n",
    "# nlargest(1) select only one level which is highest count level in education \n",
    "for job in job_types:\n",
    "    mode = Insurance_Data[Insurance_Data.Job==job]['Education'].value_counts().nlargest(1).index\n",
    "    edu_mode = np.append(edu_mode,mode)\n",
    "edu_map=pd.Series(edu_mode,index=Insurance_Data.Job.value_counts().index)\n",
    "\n",
    "edu_map\n",
    "\n",
    "# basic model calculation"
   ]
  },
  {
   "cell_type": "code",
   "execution_count": 21,
   "metadata": {},
   "outputs": [
    {
     "data": {
      "text/plain": [
       "secondary    1988\n",
       "tertiary     1282\n",
       "primary       561\n",
       "NaN           169\n",
       "Name: Education, dtype: int64"
      ]
     },
     "execution_count": 21,
     "metadata": {},
     "output_type": "execute_result"
    }
   ],
   "source": [
    "# Fill missing communication with none \n",
    "Insurance_Data['Education'].value_counts(dropna=False)"
   ]
  },
  {
   "cell_type": "code",
   "execution_count": 22,
   "metadata": {},
   "outputs": [],
   "source": [
    "# Apply the mapping to missing eductaion obs. We will replace education now by jobs value\n",
    "#  for none \n",
    "for j in job_types:\n",
    "    Insurance_Data.loc[(Insurance_Data['Education'].isnull()) & (Insurance_Data['Job']==j),'Education'] = edu_map.loc[edu_map.index==j][0]\n",
    "\n",
    "# For those who are not getting mapped we will create a new category as None\n",
    "Insurance_Data['Education'].fillna('None',inplace=True)"
   ]
  },
  {
   "cell_type": "code",
   "execution_count": 23,
   "metadata": {},
   "outputs": [
    {
     "data": {
      "text/plain": [
       "'secondary'"
      ]
     },
     "execution_count": 23,
     "metadata": {},
     "output_type": "execute_result"
    }
   ],
   "source": [
    "edu_map.loc[edu_map.index==j][0]"
   ]
  },
  {
   "cell_type": "code",
   "execution_count": 24,
   "metadata": {},
   "outputs": [
    {
     "data": {
      "text/plain": [
       "secondary    2117\n",
       "tertiary     1318\n",
       "primary       565\n",
       "Name: Education, dtype: int64"
      ]
     },
     "execution_count": 24,
     "metadata": {},
     "output_type": "execute_result"
    }
   ],
   "source": [
    "# Fill missing communication with none \n",
    "Insurance_Data['Education'].value_counts(dropna=False)"
   ]
  },
  {
   "cell_type": "markdown",
   "metadata": {},
   "source": [
    "## communication"
   ]
  },
  {
   "cell_type": "code",
   "execution_count": 25,
   "metadata": {},
   "outputs": [
    {
     "data": {
      "text/plain": [
       "cellular     2831\n",
       "NaN           902\n",
       "telephone     267\n",
       "Name: Communication, dtype: int64"
      ]
     },
     "execution_count": 25,
     "metadata": {},
     "output_type": "execute_result"
    }
   ],
   "source": [
    "# Fill missing communication with none \n",
    "Insurance_Data['Communication'].value_counts(dropna=False)"
   ]
  },
  {
   "cell_type": "code",
   "execution_count": 26,
   "metadata": {},
   "outputs": [],
   "source": [
    "Insurance_Data['Communication'] = Insurance_Data['Communication'].fillna('None')"
   ]
  },
  {
   "cell_type": "markdown",
   "metadata": {},
   "source": [
    "## Outcome"
   ]
  },
  {
   "cell_type": "code",
   "execution_count": 27,
   "metadata": {},
   "outputs": [
    {
     "data": {
      "text/plain": [
       "NaN        3042\n",
       "failure     437\n",
       "success     326\n",
       "other       195\n",
       "Name: Outcome, dtype: int64"
      ]
     },
     "execution_count": 27,
     "metadata": {},
     "output_type": "execute_result"
    }
   ],
   "source": [
    "# Check for missing value in Outcome\n",
    "Insurance_Data['Outcome'].value_counts(dropna=False)"
   ]
  },
  {
   "cell_type": "code",
   "execution_count": 28,
   "metadata": {},
   "outputs": [
    {
     "data": {
      "text/plain": [
       "NoPrev     3042\n",
       "failure     437\n",
       "success     326\n",
       "other       195\n",
       "Name: Outcome, dtype: int64"
      ]
     },
     "execution_count": 28,
     "metadata": {},
     "output_type": "execute_result"
    }
   ],
   "source": [
    "# Fill missing outcome as not in previous campaign, we are adding one category to Outcome\n",
    "# We will add category if the value of DaysPassed is -1\n",
    "# Can you do it other ways.. yes this is one way of doing you can do it other ways also.\n",
    "\n",
    "Insurance_Data.loc[Insurance_Data['DaysPassed']==-1,'Outcome']='NoPrev'\n",
    "Insurance_Data['Outcome'].value_counts(dropna=False)"
   ]
  },
  {
   "cell_type": "code",
   "execution_count": 29,
   "metadata": {},
   "outputs": [
    {
     "data": {
      "text/plain": [
       "Id                  0\n",
       "Age                 0\n",
       "Job                 0\n",
       "Marital             0\n",
       "Education           0\n",
       "Default             0\n",
       "Balance             0\n",
       "HHInsurance         0\n",
       "CarLoan             0\n",
       "Communication       0\n",
       "LastContactDay      0\n",
       "LastContactMonth    0\n",
       "NoOfContacts        0\n",
       "DaysPassed          0\n",
       "PrevAttempts        0\n",
       "Outcome             0\n",
       "CallStart           0\n",
       "CallEnd             0\n",
       "CarInsurance        0\n",
       "dtype: int64"
      ]
     },
     "execution_count": 29,
     "metadata": {},
     "output_type": "execute_result"
    }
   ],
   "source": [
    "# Check if we have any missing values left\n",
    "Insurance_Data.isnull().sum()"
   ]
  },
  {
   "cell_type": "markdown",
   "metadata": {},
   "source": [
    "# Subset of data\n",
    "\n",
    "* number subset \n",
    "* Categorical subset"
   ]
  },
  {
   "cell_type": "code",
   "execution_count": 30,
   "metadata": {},
   "outputs": [],
   "source": [
    "Insurance_Data_num = Insurance_Data[num_cols+['Id', 'CarInsurance']]"
   ]
  },
  {
   "cell_type": "code",
   "execution_count": 31,
   "metadata": {},
   "outputs": [
    {
     "data": {
      "text/plain": [
       "['Job', 'Marital', 'Education', 'Communication', 'LastContactMonth', 'Outcome']"
      ]
     },
     "execution_count": 31,
     "metadata": {},
     "output_type": "execute_result"
    }
   ],
   "source": [
    "# Categorical columns data\n",
    "Insurance_Data_cat = Insurance_Data[non_num_cols]\n",
    "non_num_cols"
   ]
  },
  {
   "cell_type": "code",
   "execution_count": 32,
   "metadata": {},
   "outputs": [
    {
     "name": "stdout",
     "output_type": "stream",
     "text": [
      "(4000, 37)\n"
     ]
    },
    {
     "data": {
      "text/html": [
       "<div>\n",
       "<style scoped>\n",
       "    .dataframe tbody tr th:only-of-type {\n",
       "        vertical-align: middle;\n",
       "    }\n",
       "\n",
       "    .dataframe tbody tr th {\n",
       "        vertical-align: top;\n",
       "    }\n",
       "\n",
       "    .dataframe thead th {\n",
       "        text-align: right;\n",
       "    }\n",
       "</style>\n",
       "<table border=\"1\" class=\"dataframe\">\n",
       "  <thead>\n",
       "    <tr style=\"text-align: right;\">\n",
       "      <th></th>\n",
       "      <th>Job_None</th>\n",
       "      <th>Job_admin.</th>\n",
       "      <th>Job_blue-collar</th>\n",
       "      <th>Job_entrepreneur</th>\n",
       "      <th>Job_housemaid</th>\n",
       "      <th>Job_management</th>\n",
       "      <th>Job_retired</th>\n",
       "      <th>Job_self-employed</th>\n",
       "      <th>Job_services</th>\n",
       "      <th>Job_student</th>\n",
       "      <th>...</th>\n",
       "      <th>LastContactMonth_jun</th>\n",
       "      <th>LastContactMonth_mar</th>\n",
       "      <th>LastContactMonth_may</th>\n",
       "      <th>LastContactMonth_nov</th>\n",
       "      <th>LastContactMonth_oct</th>\n",
       "      <th>LastContactMonth_sep</th>\n",
       "      <th>Outcome_NoPrev</th>\n",
       "      <th>Outcome_failure</th>\n",
       "      <th>Outcome_other</th>\n",
       "      <th>Outcome_success</th>\n",
       "    </tr>\n",
       "  </thead>\n",
       "  <tbody>\n",
       "    <tr>\n",
       "      <th>0</th>\n",
       "      <td>0</td>\n",
       "      <td>0</td>\n",
       "      <td>0</td>\n",
       "      <td>0</td>\n",
       "      <td>0</td>\n",
       "      <td>1</td>\n",
       "      <td>0</td>\n",
       "      <td>0</td>\n",
       "      <td>0</td>\n",
       "      <td>0</td>\n",
       "      <td>...</td>\n",
       "      <td>0</td>\n",
       "      <td>0</td>\n",
       "      <td>0</td>\n",
       "      <td>0</td>\n",
       "      <td>0</td>\n",
       "      <td>0</td>\n",
       "      <td>1</td>\n",
       "      <td>0</td>\n",
       "      <td>0</td>\n",
       "      <td>0</td>\n",
       "    </tr>\n",
       "    <tr>\n",
       "      <th>1</th>\n",
       "      <td>0</td>\n",
       "      <td>0</td>\n",
       "      <td>1</td>\n",
       "      <td>0</td>\n",
       "      <td>0</td>\n",
       "      <td>0</td>\n",
       "      <td>0</td>\n",
       "      <td>0</td>\n",
       "      <td>0</td>\n",
       "      <td>0</td>\n",
       "      <td>...</td>\n",
       "      <td>0</td>\n",
       "      <td>0</td>\n",
       "      <td>1</td>\n",
       "      <td>0</td>\n",
       "      <td>0</td>\n",
       "      <td>0</td>\n",
       "      <td>1</td>\n",
       "      <td>0</td>\n",
       "      <td>0</td>\n",
       "      <td>0</td>\n",
       "    </tr>\n",
       "    <tr>\n",
       "      <th>2</th>\n",
       "      <td>0</td>\n",
       "      <td>0</td>\n",
       "      <td>0</td>\n",
       "      <td>0</td>\n",
       "      <td>0</td>\n",
       "      <td>1</td>\n",
       "      <td>0</td>\n",
       "      <td>0</td>\n",
       "      <td>0</td>\n",
       "      <td>0</td>\n",
       "      <td>...</td>\n",
       "      <td>1</td>\n",
       "      <td>0</td>\n",
       "      <td>0</td>\n",
       "      <td>0</td>\n",
       "      <td>0</td>\n",
       "      <td>0</td>\n",
       "      <td>0</td>\n",
       "      <td>1</td>\n",
       "      <td>0</td>\n",
       "      <td>0</td>\n",
       "    </tr>\n",
       "    <tr>\n",
       "      <th>3</th>\n",
       "      <td>0</td>\n",
       "      <td>0</td>\n",
       "      <td>0</td>\n",
       "      <td>0</td>\n",
       "      <td>0</td>\n",
       "      <td>0</td>\n",
       "      <td>0</td>\n",
       "      <td>0</td>\n",
       "      <td>0</td>\n",
       "      <td>1</td>\n",
       "      <td>...</td>\n",
       "      <td>0</td>\n",
       "      <td>0</td>\n",
       "      <td>1</td>\n",
       "      <td>0</td>\n",
       "      <td>0</td>\n",
       "      <td>0</td>\n",
       "      <td>1</td>\n",
       "      <td>0</td>\n",
       "      <td>0</td>\n",
       "      <td>0</td>\n",
       "    </tr>\n",
       "    <tr>\n",
       "      <th>4</th>\n",
       "      <td>0</td>\n",
       "      <td>0</td>\n",
       "      <td>0</td>\n",
       "      <td>0</td>\n",
       "      <td>0</td>\n",
       "      <td>1</td>\n",
       "      <td>0</td>\n",
       "      <td>0</td>\n",
       "      <td>0</td>\n",
       "      <td>0</td>\n",
       "      <td>...</td>\n",
       "      <td>1</td>\n",
       "      <td>0</td>\n",
       "      <td>0</td>\n",
       "      <td>0</td>\n",
       "      <td>0</td>\n",
       "      <td>0</td>\n",
       "      <td>1</td>\n",
       "      <td>0</td>\n",
       "      <td>0</td>\n",
       "      <td>0</td>\n",
       "    </tr>\n",
       "  </tbody>\n",
       "</table>\n",
       "<p>5 rows × 37 columns</p>\n",
       "</div>"
      ],
      "text/plain": [
       "   Job_None  Job_admin.  Job_blue-collar  Job_entrepreneur  Job_housemaid  \\\n",
       "0         0           0                0                 0              0   \n",
       "1         0           0                1                 0              0   \n",
       "2         0           0                0                 0              0   \n",
       "3         0           0                0                 0              0   \n",
       "4         0           0                0                 0              0   \n",
       "\n",
       "   Job_management  Job_retired  Job_self-employed  Job_services  Job_student  \\\n",
       "0               1            0                  0             0            0   \n",
       "1               0            0                  0             0            0   \n",
       "2               1            0                  0             0            0   \n",
       "3               0            0                  0             0            1   \n",
       "4               1            0                  0             0            0   \n",
       "\n",
       "   ...  LastContactMonth_jun  LastContactMonth_mar  LastContactMonth_may  \\\n",
       "0  ...                     0                     0                     0   \n",
       "1  ...                     0                     0                     1   \n",
       "2  ...                     1                     0                     0   \n",
       "3  ...                     0                     0                     1   \n",
       "4  ...                     1                     0                     0   \n",
       "\n",
       "   LastContactMonth_nov  LastContactMonth_oct  LastContactMonth_sep  \\\n",
       "0                     0                     0                     0   \n",
       "1                     0                     0                     0   \n",
       "2                     0                     0                     0   \n",
       "3                     0                     0                     0   \n",
       "4                     0                     0                     0   \n",
       "\n",
       "   Outcome_NoPrev  Outcome_failure  Outcome_other  Outcome_success  \n",
       "0               1                0              0                0  \n",
       "1               1                0              0                0  \n",
       "2               0                1              0                0  \n",
       "3               1                0              0                0  \n",
       "4               1                0              0                0  \n",
       "\n",
       "[5 rows x 37 columns]"
      ]
     },
     "execution_count": 32,
     "metadata": {},
     "output_type": "execute_result"
    }
   ],
   "source": [
    "# Create dummies\n",
    "Insurance_Data_cat_dummies = pd.get_dummies(Insurance_Data_cat)\n",
    "print(Insurance_Data_cat_dummies.shape)\n",
    "Insurance_Data_cat_dummies.head()"
   ]
  },
  {
   "cell_type": "markdown",
   "metadata": {},
   "source": [
    "## Merge the 2 File (number & Categorical)"
   ]
  },
  {
   "cell_type": "code",
   "execution_count": 33,
   "metadata": {},
   "outputs": [
    {
     "name": "stdout",
     "output_type": "stream",
     "text": [
      "(4000, 48)\n"
     ]
    },
    {
     "data": {
      "text/html": [
       "<div>\n",
       "<style scoped>\n",
       "    .dataframe tbody tr th:only-of-type {\n",
       "        vertical-align: middle;\n",
       "    }\n",
       "\n",
       "    .dataframe tbody tr th {\n",
       "        vertical-align: top;\n",
       "    }\n",
       "\n",
       "    .dataframe thead th {\n",
       "        text-align: right;\n",
       "    }\n",
       "</style>\n",
       "<table border=\"1\" class=\"dataframe\">\n",
       "  <thead>\n",
       "    <tr style=\"text-align: right;\">\n",
       "      <th></th>\n",
       "      <th>Age</th>\n",
       "      <th>Default</th>\n",
       "      <th>Balance</th>\n",
       "      <th>HHInsurance</th>\n",
       "      <th>CarLoan</th>\n",
       "      <th>LastContactDay</th>\n",
       "      <th>NoOfContacts</th>\n",
       "      <th>DaysPassed</th>\n",
       "      <th>PrevAttempts</th>\n",
       "      <th>Id</th>\n",
       "      <th>...</th>\n",
       "      <th>LastContactMonth_jun</th>\n",
       "      <th>LastContactMonth_mar</th>\n",
       "      <th>LastContactMonth_may</th>\n",
       "      <th>LastContactMonth_nov</th>\n",
       "      <th>LastContactMonth_oct</th>\n",
       "      <th>LastContactMonth_sep</th>\n",
       "      <th>Outcome_NoPrev</th>\n",
       "      <th>Outcome_failure</th>\n",
       "      <th>Outcome_other</th>\n",
       "      <th>Outcome_success</th>\n",
       "    </tr>\n",
       "  </thead>\n",
       "  <tbody>\n",
       "    <tr>\n",
       "      <th>0</th>\n",
       "      <td>32</td>\n",
       "      <td>0</td>\n",
       "      <td>1218</td>\n",
       "      <td>1</td>\n",
       "      <td>0</td>\n",
       "      <td>28</td>\n",
       "      <td>2</td>\n",
       "      <td>-1</td>\n",
       "      <td>0</td>\n",
       "      <td>1</td>\n",
       "      <td>...</td>\n",
       "      <td>0</td>\n",
       "      <td>0</td>\n",
       "      <td>0</td>\n",
       "      <td>0</td>\n",
       "      <td>0</td>\n",
       "      <td>0</td>\n",
       "      <td>1</td>\n",
       "      <td>0</td>\n",
       "      <td>0</td>\n",
       "      <td>0</td>\n",
       "    </tr>\n",
       "    <tr>\n",
       "      <th>1</th>\n",
       "      <td>32</td>\n",
       "      <td>0</td>\n",
       "      <td>1156</td>\n",
       "      <td>1</td>\n",
       "      <td>0</td>\n",
       "      <td>26</td>\n",
       "      <td>5</td>\n",
       "      <td>-1</td>\n",
       "      <td>0</td>\n",
       "      <td>2</td>\n",
       "      <td>...</td>\n",
       "      <td>0</td>\n",
       "      <td>0</td>\n",
       "      <td>1</td>\n",
       "      <td>0</td>\n",
       "      <td>0</td>\n",
       "      <td>0</td>\n",
       "      <td>1</td>\n",
       "      <td>0</td>\n",
       "      <td>0</td>\n",
       "      <td>0</td>\n",
       "    </tr>\n",
       "    <tr>\n",
       "      <th>2</th>\n",
       "      <td>29</td>\n",
       "      <td>0</td>\n",
       "      <td>637</td>\n",
       "      <td>1</td>\n",
       "      <td>0</td>\n",
       "      <td>3</td>\n",
       "      <td>1</td>\n",
       "      <td>119</td>\n",
       "      <td>1</td>\n",
       "      <td>3</td>\n",
       "      <td>...</td>\n",
       "      <td>1</td>\n",
       "      <td>0</td>\n",
       "      <td>0</td>\n",
       "      <td>0</td>\n",
       "      <td>0</td>\n",
       "      <td>0</td>\n",
       "      <td>0</td>\n",
       "      <td>1</td>\n",
       "      <td>0</td>\n",
       "      <td>0</td>\n",
       "    </tr>\n",
       "    <tr>\n",
       "      <th>3</th>\n",
       "      <td>25</td>\n",
       "      <td>0</td>\n",
       "      <td>373</td>\n",
       "      <td>1</td>\n",
       "      <td>0</td>\n",
       "      <td>11</td>\n",
       "      <td>2</td>\n",
       "      <td>-1</td>\n",
       "      <td>0</td>\n",
       "      <td>4</td>\n",
       "      <td>...</td>\n",
       "      <td>0</td>\n",
       "      <td>0</td>\n",
       "      <td>1</td>\n",
       "      <td>0</td>\n",
       "      <td>0</td>\n",
       "      <td>0</td>\n",
       "      <td>1</td>\n",
       "      <td>0</td>\n",
       "      <td>0</td>\n",
       "      <td>0</td>\n",
       "    </tr>\n",
       "    <tr>\n",
       "      <th>4</th>\n",
       "      <td>30</td>\n",
       "      <td>0</td>\n",
       "      <td>2694</td>\n",
       "      <td>0</td>\n",
       "      <td>0</td>\n",
       "      <td>3</td>\n",
       "      <td>1</td>\n",
       "      <td>-1</td>\n",
       "      <td>0</td>\n",
       "      <td>5</td>\n",
       "      <td>...</td>\n",
       "      <td>1</td>\n",
       "      <td>0</td>\n",
       "      <td>0</td>\n",
       "      <td>0</td>\n",
       "      <td>0</td>\n",
       "      <td>0</td>\n",
       "      <td>1</td>\n",
       "      <td>0</td>\n",
       "      <td>0</td>\n",
       "      <td>0</td>\n",
       "    </tr>\n",
       "  </tbody>\n",
       "</table>\n",
       "<p>5 rows × 48 columns</p>\n",
       "</div>"
      ],
      "text/plain": [
       "   Age  Default  Balance  HHInsurance  CarLoan  LastContactDay  NoOfContacts  \\\n",
       "0   32        0     1218            1        0              28             2   \n",
       "1   32        0     1156            1        0              26             5   \n",
       "2   29        0      637            1        0               3             1   \n",
       "3   25        0      373            1        0              11             2   \n",
       "4   30        0     2694            0        0               3             1   \n",
       "\n",
       "   DaysPassed  PrevAttempts  Id  ...  LastContactMonth_jun  \\\n",
       "0          -1             0   1  ...                     0   \n",
       "1          -1             0   2  ...                     0   \n",
       "2         119             1   3  ...                     1   \n",
       "3          -1             0   4  ...                     0   \n",
       "4          -1             0   5  ...                     1   \n",
       "\n",
       "   LastContactMonth_mar  LastContactMonth_may  LastContactMonth_nov  \\\n",
       "0                     0                     0                     0   \n",
       "1                     0                     1                     0   \n",
       "2                     0                     0                     0   \n",
       "3                     0                     1                     0   \n",
       "4                     0                     0                     0   \n",
       "\n",
       "   LastContactMonth_oct  LastContactMonth_sep  Outcome_NoPrev  \\\n",
       "0                     0                     0               1   \n",
       "1                     0                     0               1   \n",
       "2                     0                     0               0   \n",
       "3                     0                     0               1   \n",
       "4                     0                     0               1   \n",
       "\n",
       "   Outcome_failure  Outcome_other  Outcome_success  \n",
       "0                0              0                0  \n",
       "1                0              0                0  \n",
       "2                1              0                0  \n",
       "3                0              0                0  \n",
       "4                0              0                0  \n",
       "\n",
       "[5 rows x 48 columns]"
      ]
     },
     "execution_count": 33,
     "metadata": {},
     "output_type": "execute_result"
    }
   ],
   "source": [
    "Insurance_Data_final = pd.concat([Insurance_Data_num, Insurance_Data_cat_dummies], axis=1)\n",
    "print(Insurance_Data_final.shape)\n",
    "Insurance_Data_final.head()"
   ]
  },
  {
   "cell_type": "code",
   "execution_count": 34,
   "metadata": {},
   "outputs": [
    {
     "data": {
      "text/plain": [
       "Age                        0\n",
       "Default                    0\n",
       "Balance                    0\n",
       "HHInsurance                0\n",
       "CarLoan                    0\n",
       "LastContactDay             0\n",
       "NoOfContacts               0\n",
       "DaysPassed                 0\n",
       "PrevAttempts               0\n",
       "Id                         0\n",
       "CarInsurance               0\n",
       "Job_None                   0\n",
       "Job_admin.                 0\n",
       "Job_blue-collar            0\n",
       "Job_entrepreneur           0\n",
       "Job_housemaid              0\n",
       "Job_management             0\n",
       "Job_retired                0\n",
       "Job_self-employed          0\n",
       "Job_services               0\n",
       "Job_student                0\n",
       "Job_technician             0\n",
       "Job_unemployed             0\n",
       "Marital_divorced           0\n",
       "Marital_married            0\n",
       "Marital_single             0\n",
       "Education_primary          0\n",
       "Education_secondary        0\n",
       "Education_tertiary         0\n",
       "Communication_None         0\n",
       "Communication_cellular     0\n",
       "Communication_telephone    0\n",
       "LastContactMonth_apr       0\n",
       "LastContactMonth_aug       0\n",
       "LastContactMonth_dec       0\n",
       "LastContactMonth_feb       0\n",
       "LastContactMonth_jan       0\n",
       "LastContactMonth_jul       0\n",
       "LastContactMonth_jun       0\n",
       "LastContactMonth_mar       0\n",
       "LastContactMonth_may       0\n",
       "LastContactMonth_nov       0\n",
       "LastContactMonth_oct       0\n",
       "LastContactMonth_sep       0\n",
       "Outcome_NoPrev             0\n",
       "Outcome_failure            0\n",
       "Outcome_other              0\n",
       "Outcome_success            0\n",
       "dtype: int64"
      ]
     },
     "execution_count": 34,
     "metadata": {},
     "output_type": "execute_result"
    }
   ],
   "source": [
    "# Checking if there are missing values before we run model\n",
    "Insurance_Data_final.isnull().sum(axis = 0)"
   ]
  },
  {
   "cell_type": "markdown",
   "metadata": {},
   "source": [
    "## Data Partition"
   ]
  },
  {
   "cell_type": "code",
   "execution_count": 35,
   "metadata": {},
   "outputs": [],
   "source": [
    "train_df = Insurance_Data_final.drop(['Id', 'CarInsurance'], axis=1)\n",
    "train_label = Insurance_Data_final['CarInsurance']"
   ]
  },
  {
   "cell_type": "code",
   "execution_count": 36,
   "metadata": {},
   "outputs": [],
   "source": [
    "#random_state is the seed used by the random number generator. It can be any integer.\n",
    "# Train test split\n",
    "X_train, X_test, y_train, y_test = train_test_split(train_df, train_label, train_size=0.7 , random_state=100)"
   ]
  },
  {
   "cell_type": "code",
   "execution_count": 37,
   "metadata": {},
   "outputs": [
    {
     "name": "stdout",
     "output_type": "stream",
     "text": [
      "Train shape -  (2800, 46)\n",
      "Test shape  -  (1200, 46)\n"
     ]
    }
   ],
   "source": [
    "print('Train shape - ', X_train.shape)\n",
    "print('Test shape  - ', X_test.shape)"
   ]
  },
  {
   "cell_type": "markdown",
   "metadata": {},
   "source": [
    "## Model Building"
   ]
  },
  {
   "cell_type": "code",
   "execution_count": 38,
   "metadata": {},
   "outputs": [],
   "source": [
    "from sklearn.linear_model import RidgeClassifier"
   ]
  },
  {
   "cell_type": "code",
   "execution_count": 39,
   "metadata": {},
   "outputs": [],
   "source": [
    "final_mod = RidgeClassifier(alpha=0.1)"
   ]
  },
  {
   "cell_type": "code",
   "execution_count": 40,
   "metadata": {},
   "outputs": [
    {
     "data": {
      "text/plain": [
       "RidgeClassifier(alpha=0.1)"
      ]
     },
     "execution_count": 40,
     "metadata": {},
     "output_type": "execute_result"
    }
   ],
   "source": [
    "final_mod.fit(X_train, y_train)"
   ]
  },
  {
   "cell_type": "markdown",
   "metadata": {},
   "source": [
    "### Coefficent of Model"
   ]
  },
  {
   "cell_type": "code",
   "execution_count": 41,
   "metadata": {},
   "outputs": [
    {
     "name": "stdout",
     "output_type": "stream",
     "text": [
      "[[ 2.37679956e-03 -2.23767134e-02 -4.95875200e-07 -2.14845871e-01\n",
      "  -1.16690853e-01 -2.16286405e-03 -2.04281106e-02  1.02370334e-04\n",
      "   2.13539880e-02 -2.11576460e-01  3.83160115e-02 -1.30490015e-02\n",
      "  -1.57199537e-01 -2.08489254e-02 -2.61280138e-02  1.07347284e-01\n",
      "  -2.12293032e-01  4.15803888e-02  2.43112531e-01  3.01972832e-03\n",
      "   2.07719026e-01  5.88461171e-02 -1.02050477e-01  4.32043603e-02\n",
      "  -3.30910924e-02 -5.01867871e-02  8.32778795e-02 -3.00288864e-01\n",
      "   1.58346246e-01  1.41942618e-01  7.04263973e-02 -3.34000479e-01\n",
      "   2.87579948e-01 -4.69867954e-02 -3.89390280e-01 -1.89688418e-01\n",
      "   4.86275379e-02  3.74997419e-01 -1.05317417e-01 -2.95240338e-01\n",
      "   3.59176749e-01  2.19815676e-01 -8.17308190e-02 -2.57365240e-01\n",
      "  -1.94524063e-01  5.33620122e-01]]\n"
     ]
    }
   ],
   "source": [
    "print(final_mod.coef_)"
   ]
  },
  {
   "cell_type": "code",
   "execution_count": 42,
   "metadata": {},
   "outputs": [
    {
     "name": "stdout",
     "output_type": "stream",
     "text": [
      "[0.04547281]\n"
     ]
    }
   ],
   "source": [
    "print(final_mod.intercept_)  \n"
   ]
  },
  {
   "cell_type": "markdown",
   "metadata": {},
   "source": [
    "## Predictions on Train Dataset"
   ]
  },
  {
   "cell_type": "code",
   "execution_count": 43,
   "metadata": {},
   "outputs": [],
   "source": [
    "# Prediction\n",
    "train_pred = final_mod.predict(X_train)"
   ]
  },
  {
   "cell_type": "code",
   "execution_count": 44,
   "metadata": {},
   "outputs": [],
   "source": [
    "train=pd.concat([X_train,y_train],axis=1)"
   ]
  },
  {
   "cell_type": "code",
   "execution_count": 45,
   "metadata": {},
   "outputs": [],
   "source": [
    "train['Predicted']=train_pred"
   ]
  },
  {
   "cell_type": "markdown",
   "metadata": {},
   "source": [
    "## Model Performance Metrics"
   ]
  },
  {
   "cell_type": "code",
   "execution_count": 46,
   "metadata": {},
   "outputs": [
    {
     "name": "stdout",
     "output_type": "stream",
     "text": [
      "[[1468  195]\n",
      " [ 600  537]]\n"
     ]
    }
   ],
   "source": [
    "from sklearn.metrics import confusion_matrix\n",
    "confusion_matrix = confusion_matrix(train['CarInsurance'],train['Predicted'])\n",
    "print(confusion_matrix)"
   ]
  },
  {
   "cell_type": "code",
   "execution_count": 47,
   "metadata": {},
   "outputs": [
    {
     "name": "stdout",
     "output_type": "stream",
     "text": [
      "71.60714285714286\n"
     ]
    }
   ],
   "source": [
    "Accuracy_Train=((1468+537)/(1468+537+195+600)*100)\n",
    "print(Accuracy_Train)"
   ]
  },
  {
   "cell_type": "markdown",
   "metadata": {},
   "source": [
    "## Predictions on Test Dataset"
   ]
  },
  {
   "cell_type": "code",
   "execution_count": 48,
   "metadata": {},
   "outputs": [],
   "source": [
    "test_pred = final_mod.predict(X_test)"
   ]
  },
  {
   "cell_type": "code",
   "execution_count": 49,
   "metadata": {},
   "outputs": [],
   "source": [
    "test=pd.concat([X_test,y_test],axis=1)"
   ]
  },
  {
   "cell_type": "code",
   "execution_count": 50,
   "metadata": {},
   "outputs": [],
   "source": [
    "test['Predicted']=test_pred"
   ]
  },
  {
   "cell_type": "markdown",
   "metadata": {},
   "source": [
    "## Model Performance Test data"
   ]
  },
  {
   "cell_type": "code",
   "execution_count": 51,
   "metadata": {},
   "outputs": [
    {
     "name": "stdout",
     "output_type": "stream",
     "text": [
      "[[651  82]\n",
      " [236 231]]\n"
     ]
    }
   ],
   "source": [
    "from sklearn.metrics import confusion_matrix\n",
    "confusion_matrix = confusion_matrix(test['CarInsurance'],test['Predicted'])\n",
    "print(confusion_matrix)"
   ]
  },
  {
   "cell_type": "code",
   "execution_count": 52,
   "metadata": {},
   "outputs": [
    {
     "name": "stdout",
     "output_type": "stream",
     "text": [
      "73.5\n"
     ]
    }
   ],
   "source": [
    "Accuracy_Test=((651+231)/(651+231+82+236)*100)\n",
    "print(Accuracy_Test)"
   ]
  },
  {
   "cell_type": "code",
   "execution_count": 53,
   "metadata": {},
   "outputs": [
    {
     "name": "stdout",
     "output_type": "stream",
     "text": [
      "Classification report for train data is : \n",
      "               precision    recall  f1-score   support\n",
      "\n",
      "           0       0.71      0.88      0.79      1663\n",
      "           1       0.73      0.47      0.57      1137\n",
      "\n",
      "    accuracy                           0.72      2800\n",
      "   macro avg       0.72      0.68      0.68      2800\n",
      "weighted avg       0.72      0.72      0.70      2800\n",
      "\n",
      "Classification report for test data is : \n",
      "               precision    recall  f1-score   support\n",
      "\n",
      "           0       0.73      0.89      0.80       733\n",
      "           1       0.74      0.49      0.59       467\n",
      "\n",
      "    accuracy                           0.73      1200\n",
      "   macro avg       0.74      0.69      0.70      1200\n",
      "weighted avg       0.74      0.73      0.72      1200\n",
      "\n"
     ]
    }
   ],
   "source": [
    "print('Classification report for train data is : \\n',\n",
    "      classification_report(y_train, train_pred))\n",
    "print('Classification report for test data is : \\n',\n",
    "      classification_report(y_test, test_pred))\n"
   ]
  },
  {
   "cell_type": "code",
   "execution_count": 54,
   "metadata": {},
   "outputs": [],
   "source": [
    "coefs = pd.DataFrame(list(final_mod.coef_.ravel()),\n",
    "                        list(X_train.columns)).reset_index()\n",
    "coefs.columns = ['feature', 'coefficient']\n",
    "coefs = coefs.sort_values(by='coefficient', ascending=False)\n"
   ]
  },
  {
   "cell_type": "code",
   "execution_count": 55,
   "metadata": {},
   "outputs": [
    {
     "data": {
      "text/html": [
       "<div>\n",
       "<style scoped>\n",
       "    .dataframe tbody tr th:only-of-type {\n",
       "        vertical-align: middle;\n",
       "    }\n",
       "\n",
       "    .dataframe tbody tr th {\n",
       "        vertical-align: top;\n",
       "    }\n",
       "\n",
       "    .dataframe thead th {\n",
       "        text-align: right;\n",
       "    }\n",
       "</style>\n",
       "<table border=\"1\" class=\"dataframe\">\n",
       "  <thead>\n",
       "    <tr style=\"text-align: right;\">\n",
       "      <th></th>\n",
       "      <th>feature</th>\n",
       "      <th>coefficient</th>\n",
       "    </tr>\n",
       "  </thead>\n",
       "  <tbody>\n",
       "    <tr>\n",
       "      <th>45</th>\n",
       "      <td>Outcome_success</td>\n",
       "      <td>5.336201e-01</td>\n",
       "    </tr>\n",
       "    <tr>\n",
       "      <th>37</th>\n",
       "      <td>LastContactMonth_mar</td>\n",
       "      <td>3.749974e-01</td>\n",
       "    </tr>\n",
       "    <tr>\n",
       "      <th>40</th>\n",
       "      <td>LastContactMonth_oct</td>\n",
       "      <td>3.591767e-01</td>\n",
       "    </tr>\n",
       "    <tr>\n",
       "      <th>32</th>\n",
       "      <td>LastContactMonth_dec</td>\n",
       "      <td>2.875799e-01</td>\n",
       "    </tr>\n",
       "    <tr>\n",
       "      <th>18</th>\n",
       "      <td>Job_student</td>\n",
       "      <td>2.431125e-01</td>\n",
       "    </tr>\n",
       "    <tr>\n",
       "      <th>41</th>\n",
       "      <td>LastContactMonth_sep</td>\n",
       "      <td>2.198157e-01</td>\n",
       "    </tr>\n",
       "    <tr>\n",
       "      <th>20</th>\n",
       "      <td>Job_unemployed</td>\n",
       "      <td>2.077190e-01</td>\n",
       "    </tr>\n",
       "    <tr>\n",
       "      <th>28</th>\n",
       "      <td>Communication_cellular</td>\n",
       "      <td>1.583462e-01</td>\n",
       "    </tr>\n",
       "    <tr>\n",
       "      <th>29</th>\n",
       "      <td>Communication_telephone</td>\n",
       "      <td>1.419426e-01</td>\n",
       "    </tr>\n",
       "    <tr>\n",
       "      <th>15</th>\n",
       "      <td>Job_retired</td>\n",
       "      <td>1.073473e-01</td>\n",
       "    </tr>\n",
       "    <tr>\n",
       "      <th>26</th>\n",
       "      <td>Education_tertiary</td>\n",
       "      <td>8.327788e-02</td>\n",
       "    </tr>\n",
       "    <tr>\n",
       "      <th>30</th>\n",
       "      <td>LastContactMonth_apr</td>\n",
       "      <td>7.042640e-02</td>\n",
       "    </tr>\n",
       "    <tr>\n",
       "      <th>21</th>\n",
       "      <td>Marital_divorced</td>\n",
       "      <td>5.884612e-02</td>\n",
       "    </tr>\n",
       "    <tr>\n",
       "      <th>36</th>\n",
       "      <td>LastContactMonth_jun</td>\n",
       "      <td>4.862754e-02</td>\n",
       "    </tr>\n",
       "    <tr>\n",
       "      <th>23</th>\n",
       "      <td>Marital_single</td>\n",
       "      <td>4.320436e-02</td>\n",
       "    </tr>\n",
       "    <tr>\n",
       "      <th>17</th>\n",
       "      <td>Job_services</td>\n",
       "      <td>4.158039e-02</td>\n",
       "    </tr>\n",
       "    <tr>\n",
       "      <th>10</th>\n",
       "      <td>Job_admin.</td>\n",
       "      <td>3.831601e-02</td>\n",
       "    </tr>\n",
       "    <tr>\n",
       "      <th>8</th>\n",
       "      <td>PrevAttempts</td>\n",
       "      <td>2.135399e-02</td>\n",
       "    </tr>\n",
       "    <tr>\n",
       "      <th>19</th>\n",
       "      <td>Job_technician</td>\n",
       "      <td>3.019728e-03</td>\n",
       "    </tr>\n",
       "    <tr>\n",
       "      <th>0</th>\n",
       "      <td>Age</td>\n",
       "      <td>2.376800e-03</td>\n",
       "    </tr>\n",
       "    <tr>\n",
       "      <th>7</th>\n",
       "      <td>DaysPassed</td>\n",
       "      <td>1.023703e-04</td>\n",
       "    </tr>\n",
       "    <tr>\n",
       "      <th>2</th>\n",
       "      <td>Balance</td>\n",
       "      <td>-4.958752e-07</td>\n",
       "    </tr>\n",
       "    <tr>\n",
       "      <th>5</th>\n",
       "      <td>LastContactDay</td>\n",
       "      <td>-2.162864e-03</td>\n",
       "    </tr>\n",
       "    <tr>\n",
       "      <th>11</th>\n",
       "      <td>Job_blue-collar</td>\n",
       "      <td>-1.304900e-02</td>\n",
       "    </tr>\n",
       "    <tr>\n",
       "      <th>6</th>\n",
       "      <td>NoOfContacts</td>\n",
       "      <td>-2.042811e-02</td>\n",
       "    </tr>\n",
       "    <tr>\n",
       "      <th>13</th>\n",
       "      <td>Job_housemaid</td>\n",
       "      <td>-2.084893e-02</td>\n",
       "    </tr>\n",
       "    <tr>\n",
       "      <th>1</th>\n",
       "      <td>Default</td>\n",
       "      <td>-2.237671e-02</td>\n",
       "    </tr>\n",
       "    <tr>\n",
       "      <th>14</th>\n",
       "      <td>Job_management</td>\n",
       "      <td>-2.612801e-02</td>\n",
       "    </tr>\n",
       "    <tr>\n",
       "      <th>24</th>\n",
       "      <td>Education_primary</td>\n",
       "      <td>-3.309109e-02</td>\n",
       "    </tr>\n",
       "    <tr>\n",
       "      <th>33</th>\n",
       "      <td>LastContactMonth_feb</td>\n",
       "      <td>-4.698680e-02</td>\n",
       "    </tr>\n",
       "    <tr>\n",
       "      <th>25</th>\n",
       "      <td>Education_secondary</td>\n",
       "      <td>-5.018679e-02</td>\n",
       "    </tr>\n",
       "    <tr>\n",
       "      <th>42</th>\n",
       "      <td>Outcome_NoPrev</td>\n",
       "      <td>-8.173082e-02</td>\n",
       "    </tr>\n",
       "    <tr>\n",
       "      <th>22</th>\n",
       "      <td>Marital_married</td>\n",
       "      <td>-1.020505e-01</td>\n",
       "    </tr>\n",
       "    <tr>\n",
       "      <th>38</th>\n",
       "      <td>LastContactMonth_may</td>\n",
       "      <td>-1.053174e-01</td>\n",
       "    </tr>\n",
       "    <tr>\n",
       "      <th>4</th>\n",
       "      <td>CarLoan</td>\n",
       "      <td>-1.166909e-01</td>\n",
       "    </tr>\n",
       "    <tr>\n",
       "      <th>12</th>\n",
       "      <td>Job_entrepreneur</td>\n",
       "      <td>-1.571995e-01</td>\n",
       "    </tr>\n",
       "    <tr>\n",
       "      <th>35</th>\n",
       "      <td>LastContactMonth_jul</td>\n",
       "      <td>-1.896884e-01</td>\n",
       "    </tr>\n",
       "    <tr>\n",
       "      <th>44</th>\n",
       "      <td>Outcome_other</td>\n",
       "      <td>-1.945241e-01</td>\n",
       "    </tr>\n",
       "    <tr>\n",
       "      <th>9</th>\n",
       "      <td>Job_None</td>\n",
       "      <td>-2.115765e-01</td>\n",
       "    </tr>\n",
       "    <tr>\n",
       "      <th>16</th>\n",
       "      <td>Job_self-employed</td>\n",
       "      <td>-2.122930e-01</td>\n",
       "    </tr>\n",
       "    <tr>\n",
       "      <th>3</th>\n",
       "      <td>HHInsurance</td>\n",
       "      <td>-2.148459e-01</td>\n",
       "    </tr>\n",
       "    <tr>\n",
       "      <th>43</th>\n",
       "      <td>Outcome_failure</td>\n",
       "      <td>-2.573652e-01</td>\n",
       "    </tr>\n",
       "    <tr>\n",
       "      <th>39</th>\n",
       "      <td>LastContactMonth_nov</td>\n",
       "      <td>-2.952403e-01</td>\n",
       "    </tr>\n",
       "    <tr>\n",
       "      <th>27</th>\n",
       "      <td>Communication_None</td>\n",
       "      <td>-3.002889e-01</td>\n",
       "    </tr>\n",
       "    <tr>\n",
       "      <th>31</th>\n",
       "      <td>LastContactMonth_aug</td>\n",
       "      <td>-3.340005e-01</td>\n",
       "    </tr>\n",
       "    <tr>\n",
       "      <th>34</th>\n",
       "      <td>LastContactMonth_jan</td>\n",
       "      <td>-3.893903e-01</td>\n",
       "    </tr>\n",
       "  </tbody>\n",
       "</table>\n",
       "</div>"
      ],
      "text/plain": [
       "                    feature   coefficient\n",
       "45          Outcome_success  5.336201e-01\n",
       "37     LastContactMonth_mar  3.749974e-01\n",
       "40     LastContactMonth_oct  3.591767e-01\n",
       "32     LastContactMonth_dec  2.875799e-01\n",
       "18              Job_student  2.431125e-01\n",
       "41     LastContactMonth_sep  2.198157e-01\n",
       "20           Job_unemployed  2.077190e-01\n",
       "28   Communication_cellular  1.583462e-01\n",
       "29  Communication_telephone  1.419426e-01\n",
       "15              Job_retired  1.073473e-01\n",
       "26       Education_tertiary  8.327788e-02\n",
       "30     LastContactMonth_apr  7.042640e-02\n",
       "21         Marital_divorced  5.884612e-02\n",
       "36     LastContactMonth_jun  4.862754e-02\n",
       "23           Marital_single  4.320436e-02\n",
       "17             Job_services  4.158039e-02\n",
       "10               Job_admin.  3.831601e-02\n",
       "8              PrevAttempts  2.135399e-02\n",
       "19           Job_technician  3.019728e-03\n",
       "0                       Age  2.376800e-03\n",
       "7                DaysPassed  1.023703e-04\n",
       "2                   Balance -4.958752e-07\n",
       "5            LastContactDay -2.162864e-03\n",
       "11          Job_blue-collar -1.304900e-02\n",
       "6              NoOfContacts -2.042811e-02\n",
       "13            Job_housemaid -2.084893e-02\n",
       "1                   Default -2.237671e-02\n",
       "14           Job_management -2.612801e-02\n",
       "24        Education_primary -3.309109e-02\n",
       "33     LastContactMonth_feb -4.698680e-02\n",
       "25      Education_secondary -5.018679e-02\n",
       "42           Outcome_NoPrev -8.173082e-02\n",
       "22          Marital_married -1.020505e-01\n",
       "38     LastContactMonth_may -1.053174e-01\n",
       "4                   CarLoan -1.166909e-01\n",
       "12         Job_entrepreneur -1.571995e-01\n",
       "35     LastContactMonth_jul -1.896884e-01\n",
       "44            Outcome_other -1.945241e-01\n",
       "9                  Job_None -2.115765e-01\n",
       "16        Job_self-employed -2.122930e-01\n",
       "3               HHInsurance -2.148459e-01\n",
       "43          Outcome_failure -2.573652e-01\n",
       "39     LastContactMonth_nov -2.952403e-01\n",
       "27       Communication_None -3.002889e-01\n",
       "31     LastContactMonth_aug -3.340005e-01\n",
       "34     LastContactMonth_jan -3.893903e-01"
      ]
     },
     "execution_count": 55,
     "metadata": {},
     "output_type": "execute_result"
    }
   ],
   "source": [
    "coefs"
   ]
  },
  {
   "cell_type": "code",
   "execution_count": 56,
   "metadata": {},
   "outputs": [
    {
     "data": {
      "text/plain": [
       "<AxesSubplot:ylabel='feature'>"
      ]
     },
     "execution_count": 56,
     "metadata": {},
     "output_type": "execute_result"
    },
    {
     "data": {
      "image/png": "[encoded data removed]",
      "text/plain": [
       "<Figure size 1000x500 with 1 Axes>"
      ]
     },
     "metadata": {},
     "output_type": "display_data"
    }
   ],
   "source": [
    "# Select top 5 features to display\n",
    "top_features = coefs[:5]\n",
    "top_features = top_features.sort_values(by='coefficient', ascending=False)\n",
    "\n",
    "# Select bottom 5 features to display\n",
    "bottom_features = coefs[-5:]\n",
    "bottom_features = bottom_features.sort_values(\n",
    "    by='coefficient', ascending=False)\n",
    "\n",
    "# Display 10 most important features\n",
    "pd.concat([top_features, bottom_features], axis=0).plot(\n",
    "    kind='barh', figsize=(10, 5), x='feature')\n"
   ]
  },
  {
   "cell_type": "code",
   "execution_count": 57,
   "metadata": {},
   "outputs": [
    {
     "data": {
      "text/html": [
       "<div>\n",
       "<style scoped>\n",
       "    .dataframe tbody tr th:only-of-type {\n",
       "        vertical-align: middle;\n",
       "    }\n",
       "\n",
       "    .dataframe tbody tr th {\n",
       "        vertical-align: top;\n",
       "    }\n",
       "\n",
       "    .dataframe thead th {\n",
       "        text-align: right;\n",
       "    }\n",
       "</style>\n",
       "<table border=\"1\" class=\"dataframe\">\n",
       "  <thead>\n",
       "    <tr style=\"text-align: right;\">\n",
       "      <th></th>\n",
       "      <th>feature</th>\n",
       "      <th>coefficient</th>\n",
       "    </tr>\n",
       "  </thead>\n",
       "  <tbody>\n",
       "    <tr>\n",
       "      <th>45</th>\n",
       "      <td>Outcome_success</td>\n",
       "      <td>0.533620</td>\n",
       "    </tr>\n",
       "    <tr>\n",
       "      <th>37</th>\n",
       "      <td>LastContactMonth_mar</td>\n",
       "      <td>0.374997</td>\n",
       "    </tr>\n",
       "    <tr>\n",
       "      <th>40</th>\n",
       "      <td>LastContactMonth_oct</td>\n",
       "      <td>0.359177</td>\n",
       "    </tr>\n",
       "    <tr>\n",
       "      <th>32</th>\n",
       "      <td>LastContactMonth_dec</td>\n",
       "      <td>0.287580</td>\n",
       "    </tr>\n",
       "    <tr>\n",
       "      <th>18</th>\n",
       "      <td>Job_student</td>\n",
       "      <td>0.243113</td>\n",
       "    </tr>\n",
       "  </tbody>\n",
       "</table>\n",
       "</div>"
      ],
      "text/plain": [
       "                 feature  coefficient\n",
       "45       Outcome_success     0.533620\n",
       "37  LastContactMonth_mar     0.374997\n",
       "40  LastContactMonth_oct     0.359177\n",
       "32  LastContactMonth_dec     0.287580\n",
       "18           Job_student     0.243113"
      ]
     },
     "execution_count": 57,
     "metadata": {},
     "output_type": "execute_result"
    }
   ],
   "source": [
    "top_features"
   ]
  }
 ],
 "metadata": {
  "kernelspec": {
   "display_name": "Python 3 (ipykernel)",
   "language": "python",
   "name": "python3"
  },
  "language_info": {
   "codemirror_mode": {
    "name": "ipython",
    "version": 3
   },
   "file_extension": ".py",
   "mimetype": "text/x-python",
   "name": "python",
   "nbconvert_exporter": "python",
   "pygments_lexer": "ipython3",
   "version": "3.9.13"
  }
 },
 "nbformat": 4,
 "nbformat_minor": 2
}
